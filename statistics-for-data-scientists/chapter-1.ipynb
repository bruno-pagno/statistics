{
 "cells": [
  {
   "cell_type": "code",
   "execution_count": 8,
   "metadata": {},
   "outputs": [
    {
     "ename": "ModuleNotFoundError",
     "evalue": "No module named 'matplotlib'",
     "output_type": "error",
     "traceback": [
      "\u001b[0;31m---------------------------------------------------------------------------\u001b[0m",
      "\u001b[0;31mModuleNotFoundError\u001b[0m                       Traceback (most recent call last)",
      "\u001b[0;32m/var/folders/bk/rv5n6dl138s0tkw_v03v3sh00000gn/T/ipykernel_16216/1492400551.py\u001b[0m in \u001b[0;36m<module>\u001b[0;34m\u001b[0m\n\u001b[1;32m      1\u001b[0m \u001b[0;32mimport\u001b[0m \u001b[0mpandas\u001b[0m \u001b[0;32mas\u001b[0m \u001b[0mpd\u001b[0m\u001b[0;34m\u001b[0m\u001b[0;34m\u001b[0m\u001b[0m\n\u001b[0;32m----> 2\u001b[0;31m \u001b[0;32mimport\u001b[0m \u001b[0mmatplotlib\u001b[0m\u001b[0;34m.\u001b[0m\u001b[0mpyplot\u001b[0m \u001b[0;32mas\u001b[0m \u001b[0mplt\u001b[0m\u001b[0;34m\u001b[0m\u001b[0;34m\u001b[0m\u001b[0m\n\u001b[0m",
      "\u001b[0;31mModuleNotFoundError\u001b[0m: No module named 'matplotlib'"
     ]
    }
   ],
   "source": [
    "import pandas as pd\n",
    "import matplotlib.pyplot as plt"
   ]
  },
  {
   "cell_type": "code",
   "execution_count": 4,
   "metadata": {},
   "outputs": [
    {
     "name": "stdout",
     "output_type": "stream",
     "text": [
      "weighted_mean: 8.450000000000003\n"
     ]
    }
   ],
   "source": [
    "# Weighted mean\n",
    "data = {\n",
    "    'Student': ['Student A', 'Student B', 'Student C', 'Student D'],\n",
    "    'Grade': [8.5, 9.0, 7.5, 8.0],\n",
    "    'Weight': [0.3, 0.4, 0.2, 0.1]\n",
    "}\n",
    "\n",
    "df = pd.DataFrame(data)\n",
    "weighted_mean = (df['Grade'] * df['Weight']).sum() / df['Weight'].sum()\n",
    "print('weighted_mean:', weighted_mean)"
   ]
  },
  {
   "cell_type": "code",
   "execution_count": 15,
   "metadata": {},
   "outputs": [
    {
     "name": "stdout",
     "output_type": "stream",
     "text": [
      "Normal mean: 55.0\n",
      "1    20\n",
      "2    30\n",
      "3    40\n",
      "4    50\n",
      "5    60\n",
      "6    70\n",
      "7    80\n",
      "8    90\n",
      "Name: Number, dtype: int64\n",
      "Before trim data: [10, 20, 30, 40, 50, 60, 70, 80, 90, 100]\n",
      "Trimmed data: 1    20\n",
      "2    30\n",
      "3    40\n",
      "4    50\n",
      "5    60\n",
      "6    70\n",
      "7    80\n",
      "8    90\n",
      "Name: Number, dtype: int64\n",
      "Trimmed Mean: 55.0\n",
      "Obs: normal mean equals trimmed mean was a big coincidence\n"
     ]
    }
   ],
   "source": [
    "# Trimmed mean\n",
    "data = {\n",
    "    'Number': [10, 20, 30, 40, 50, 60, 70, 80, 90, 100]\n",
    "}\n",
    "\n",
    "df = pd.DataFrame(data)\n",
    "print(\"Normal mean:\", df['Number'].mean())\n",
    "\n",
    "trim_percentage = 0.1\n",
    "trim_count = int(len(df) * trim_percentage)\n",
    "\n",
    "print(df['Number'].sort_values()[trim_count:-trim_count])\n",
    "trimmed_mean = df['Number'].sort_values()[trim_count:-trim_count].mean()\n",
    "\n",
    "print(\"Before trim data:\", data['Number'])\n",
    "print(\"Trimmed data:\", df['Number'].sort_values()[trim_count:-trim_count])\n",
    "print(\"Trimmed Mean:\", trimmed_mean)\n",
    "print(\"Obs: normal mean equals trimmed mean was a big coincidence\")"
   ]
  },
  {
   "cell_type": "code",
   "execution_count": 16,
   "metadata": {},
   "outputs": [
    {
     "name": "stdout",
     "output_type": "stream",
     "text": [
      "data: [5, 10, 15, 20, 25, 30, 35, 40, 45, 1000]\n",
      "Mean: 0    122.5\n",
      "dtype: float64\n",
      "Median: 0    27.5\n",
      "dtype: float64\n"
     ]
    }
   ],
   "source": [
    "# Mean vs median\n",
    "data = [5, 10, 15, 20, 25, 30, 35, 40, 45, 1000]\n",
    "df = pd.DataFrame(data)\n",
    "print('data:', data)\n",
    "print(\"Mean:\", df.mean())\n",
    "print(\"Median:\", df.median())"
   ]
  },
  {
   "cell_type": "code",
   "execution_count": 3,
   "metadata": {},
   "outputs": [
    {
     "name": "stdout",
     "output_type": "stream",
     "text": [
      "Mean: 18.4\n",
      "absolute_deviations: 0    8.4\n",
      "1    3.4\n",
      "2    1.6\n",
      "3    3.6\n",
      "4    6.6\n",
      "dtype: float64\n",
      "Mean Absolute Deviation: 4.720000000000001\n",
      "Variance: 28.24\n",
      "Standard deviation: 5.314132102234569\n"
     ]
    }
   ],
   "source": [
    "# Mean Absolute Deviation, variance and standard deviation\n",
    "\n",
    "numbers = pd.Series([10, 15, 20, 22, 25])\n",
    "mean = numbers.mean()\n",
    "absolute_deviations = numbers.sub(mean).abs()\n",
    "mad = absolute_deviations.mean()\n",
    "variance = absolute_deviations.pow(2).mean()\n",
    "standard_deviation = variance ** 0.5\n",
    "std = numbers.std()\n",
    "\n",
    "print(\"Mean:\", mean)\n",
    "print(\"absolute_deviations:\", absolute_deviations)\n",
    "print(\"Mean Absolute Deviation:\", mad)\n",
    "print(\"Variance:\", variance)\n",
    "print(\"Standard deviation:\", standard_deviation)"
   ]
  },
  {
   "cell_type": "code",
   "execution_count": 2,
   "metadata": {},
   "outputs": [
    {
     "ename": "NameError",
     "evalue": "name 'plt' is not defined",
     "output_type": "error",
     "traceback": [
      "\u001b[0;31m---------------------------------------------------------------------------\u001b[0m",
      "\u001b[0;31mNameError\u001b[0m                                 Traceback (most recent call last)",
      "\u001b[0;32m/var/folders/bk/rv5n6dl138s0tkw_v03v3sh00000gn/T/ipykernel_16216/1436208648.py\u001b[0m in \u001b[0;36m<module>\u001b[0;34m\u001b[0m\n\u001b[1;32m      1\u001b[0m \u001b[0;31m# Boxplot\u001b[0m\u001b[0;34m\u001b[0m\u001b[0;34m\u001b[0m\u001b[0;34m\u001b[0m\u001b[0m\n\u001b[1;32m      2\u001b[0m \u001b[0mdata\u001b[0m \u001b[0;34m=\u001b[0m \u001b[0;34m[\u001b[0m\u001b[0;36m10\u001b[0m\u001b[0;34m,\u001b[0m \u001b[0;36m15\u001b[0m\u001b[0;34m,\u001b[0m \u001b[0;36m20\u001b[0m\u001b[0;34m,\u001b[0m \u001b[0;36m22\u001b[0m\u001b[0;34m,\u001b[0m \u001b[0;36m25\u001b[0m\u001b[0;34m]\u001b[0m\u001b[0;34m\u001b[0m\u001b[0;34m\u001b[0m\u001b[0m\n\u001b[0;32m----> 3\u001b[0;31m \u001b[0mfig\u001b[0m\u001b[0;34m,\u001b[0m \u001b[0max\u001b[0m \u001b[0;34m=\u001b[0m \u001b[0mplt\u001b[0m\u001b[0;34m.\u001b[0m\u001b[0msubplots\u001b[0m\u001b[0;34m(\u001b[0m\u001b[0;34m)\u001b[0m\u001b[0;34m\u001b[0m\u001b[0;34m\u001b[0m\u001b[0m\n\u001b[0m\u001b[1;32m      4\u001b[0m \u001b[0max\u001b[0m\u001b[0;34m.\u001b[0m\u001b[0mboxplot\u001b[0m\u001b[0;34m(\u001b[0m\u001b[0mdata\u001b[0m\u001b[0;34m)\u001b[0m\u001b[0;34m\u001b[0m\u001b[0;34m\u001b[0m\u001b[0m\n\u001b[1;32m      5\u001b[0m \u001b[0mplt\u001b[0m\u001b[0;34m.\u001b[0m\u001b[0mshow\u001b[0m\u001b[0;34m(\u001b[0m\u001b[0;34m)\u001b[0m\u001b[0;34m\u001b[0m\u001b[0;34m\u001b[0m\u001b[0m\n",
      "\u001b[0;31mNameError\u001b[0m: name 'plt' is not defined"
     ]
    }
   ],
   "source": [
    "# Boxplot\n",
    "data = pd.Series([5,25, 30, 45, 50, 65, 100, 150])\n",
    "quartiles = data.quantile([0.25, 0.5, 0.75])\n",
    "print(quartiles)\n",
    "plt.boxplot(data)\n",
    "plt.show()"
   ]
  },
  {
   "cell_type": "code",
   "execution_count": null,
   "metadata": {},
   "outputs": [],
   "source": [
    "# Histogram\n",
    "data = [1, 2, 2, 3, 3, 3, 4, 4, 5, 6, 6, 7, 8, 9, 9, 9]\n",
    "plt.hist(data, bins=10, edgecolor='black')\n",
    "plt.xlabel('Value')\n",
    "plt.ylabel('Frequency')\n",
    "plt.title('Histogram Example')\n",
    "plt.show()"
   ]
  }
 ],
 "metadata": {
  "kernelspec": {
   "display_name": "Python 3",
   "language": "python",
   "name": "python3"
  },
  "language_info": {
   "codemirror_mode": {
    "name": "ipython",
    "version": 3
   },
   "file_extension": ".py",
   "mimetype": "text/x-python",
   "name": "python",
   "nbconvert_exporter": "python",
   "pygments_lexer": "ipython3",
   "version": "3.7.13"
  },
  "orig_nbformat": 4
 },
 "nbformat": 4,
 "nbformat_minor": 2
}
