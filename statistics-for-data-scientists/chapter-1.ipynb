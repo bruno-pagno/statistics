{
 "cells": [
  {
   "cell_type": "code",
   "execution_count": 2,
   "metadata": {},
   "outputs": [],
   "source": [
    "import pandas as pd"
   ]
  },
  {
   "cell_type": "code",
   "execution_count": 4,
   "metadata": {},
   "outputs": [
    {
     "name": "stdout",
     "output_type": "stream",
     "text": [
      "weighted_mean: 8.450000000000003\n"
     ]
    }
   ],
   "source": [
    "# Weighted mean\n",
    "data = {\n",
    "    'Student': ['Student A', 'Student B', 'Student C', 'Student D'],\n",
    "    'Grade': [8.5, 9.0, 7.5, 8.0],\n",
    "    'Weight': [0.3, 0.4, 0.2, 0.1]\n",
    "}\n",
    "\n",
    "df = pd.DataFrame(data)\n",
    "weighted_mean = (df['Grade'] * df['Weight']).sum() / df['Weight'].sum()\n",
    "print('weighted_mean:', weighted_mean)"
   ]
  },
  {
   "cell_type": "code",
   "execution_count": 15,
   "metadata": {},
   "outputs": [
    {
     "name": "stdout",
     "output_type": "stream",
     "text": [
      "Normal mean: 55.0\n",
      "1    20\n",
      "2    30\n",
      "3    40\n",
      "4    50\n",
      "5    60\n",
      "6    70\n",
      "7    80\n",
      "8    90\n",
      "Name: Number, dtype: int64\n",
      "Before trim data: [10, 20, 30, 40, 50, 60, 70, 80, 90, 100]\n",
      "Trimmed data: 1    20\n",
      "2    30\n",
      "3    40\n",
      "4    50\n",
      "5    60\n",
      "6    70\n",
      "7    80\n",
      "8    90\n",
      "Name: Number, dtype: int64\n",
      "Trimmed Mean: 55.0\n",
      "Obs: normal mean equals trimmed mean was a big coincidence\n"
     ]
    }
   ],
   "source": [
    "# Trimmed mean\n",
    "data = {\n",
    "    'Number': [10, 20, 30, 40, 50, 60, 70, 80, 90, 100]\n",
    "}\n",
    "\n",
    "df = pd.DataFrame(data)\n",
    "print(\"Normal mean:\", df['Number'].mean())\n",
    "\n",
    "trim_percentage = 0.1\n",
    "trim_count = int(len(df) * trim_percentage)\n",
    "\n",
    "print(df['Number'].sort_values()[trim_count:-trim_count])\n",
    "trimmed_mean = df['Number'].sort_values()[trim_count:-trim_count].mean()\n",
    "\n",
    "print(\"Before trim data:\", data['Number'])\n",
    "print(\"Trimmed data:\", df['Number'].sort_values()[trim_count:-trim_count])\n",
    "print(\"Trimmed Mean:\", trimmed_mean)\n",
    "print(\"Obs: normal mean equals trimmed mean was a big coincidence\")"
   ]
  },
  {
   "cell_type": "code",
   "execution_count": 16,
   "metadata": {},
   "outputs": [
    {
     "name": "stdout",
     "output_type": "stream",
     "text": [
      "data: [5, 10, 15, 20, 25, 30, 35, 40, 45, 1000]\n",
      "Mean: 0    122.5\n",
      "dtype: float64\n",
      "Median: 0    27.5\n",
      "dtype: float64\n"
     ]
    }
   ],
   "source": [
    "# Mean vs median\n",
    "data = [5, 10, 15, 20, 25, 30, 35, 40, 45, 1000]\n",
    "df = pd.DataFrame(data)\n",
    "print('data:', data)\n",
    "print(\"Mean:\", df.mean())\n",
    "print(\"Median:\", df.median())"
   ]
  },
  {
   "cell_type": "code",
   "execution_count": 3,
   "metadata": {},
   "outputs": [
    {
     "name": "stdout",
     "output_type": "stream",
     "text": [
      "Mean: 18.4\n",
      "absolute_deviations: 0    8.4\n",
      "1    3.4\n",
      "2    1.6\n",
      "3    3.6\n",
      "4    6.6\n",
      "dtype: float64\n",
      "Mean Absolute Deviation: 4.720000000000001\n",
      "Variance: 28.24\n",
      "Standard deviation: 5.314132102234569\n"
     ]
    }
   ],
   "source": [
    "# Mean Absolute Deviation, variance and standard deviation\n",
    "\n",
    "numbers = pd.Series([10, 15, 20, 22, 25])\n",
    "mean = numbers.mean()\n",
    "absolute_deviations = numbers.sub(mean).abs()\n",
    "mad = absolute_deviations.mean()\n",
    "variance = absolute_deviations.pow(2).mean()\n",
    "standard_deviation = variance ** 0.5\n",
    "std = numbers.std()\n",
    "\n",
    "print(\"Mean:\", mean)\n",
    "print(\"absolute_deviations:\", absolute_deviations)\n",
    "print(\"Mean Absolute Deviation:\", mad)\n",
    "print(\"Variance:\", variance)\n",
    "print(\"Standard deviation:\", standard_deviation)"
   ]
  },
  {
   "cell_type": "code",
   "execution_count": null,
   "metadata": {},
   "outputs": [],
   "source": [
    " "
   ]
  }
 ],
 "metadata": {
  "kernelspec": {
   "display_name": "Python 3",
   "language": "python",
   "name": "python3"
  },
  "language_info": {
   "codemirror_mode": {
    "name": "ipython",
    "version": 3
   },
   "file_extension": ".py",
   "mimetype": "text/x-python",
   "name": "python",
   "nbconvert_exporter": "python",
   "pygments_lexer": "ipython3",
   "version": "3.7.13"
  },
  "orig_nbformat": 4
 },
 "nbformat": 4,
 "nbformat_minor": 2
}
